{
 "cells": [
  {
   "cell_type": "markdown",
   "id": "d7e6c173",
   "metadata": {},
   "source": [
    "# Análisis de Datos de Producción Eólica\n",
    "Proyecto de análisis de datos de producción eólica a partir de la API de ESIOS.\n",
    "\n",
    "---"
   ]
  },
  {
   "cell_type": "markdown",
   "id": "e5ef97ff",
   "metadata": {},
   "source": [
    "## 📚 Importación de librerías necesarias"
   ]
  },
  {
   "cell_type": "code",
   "execution_count": null,
   "id": "0cc4ebd4",
   "metadata": {},
   "outputs": [],
   "source": [
    "import requests\n",
    "import pandas as pd\n",
    "import numpy as np\n",
    "from datetime import datetime\n",
    "import matplotlib.pyplot as plt\n",
    "import seaborn as sns\n",
    "import plotly.graph_objs as go\n",
    "from plotly.subplots import make_subplots\n",
    "from plotly.offline import plot"
   ]
  },
  {
   "cell_type": "markdown",
   "id": "a783fd6b",
   "metadata": {},
   "source": [
    "## 🔐 Configuración del acceso a la API"
   ]
  },
  {
   "cell_type": "code",
   "execution_count": null,
   "id": "db906841",
   "metadata": {},
   "outputs": [],
   "source": [
    "TOKEN = '255c4529289ed8e7cfcfdc5cff2c43d0f101fe5b3adaa20273c01b0deafa80d4'\n",
    "HEADERS = {\n",
    "    'Accept': 'application/json',\n",
    "    'Content-Type': 'application/json',\n",
    "    'x-api-key': TOKEN,\n",
    "    'User-Agent': 'esios-api-client'\n",
    "}"
   ]
  },
  {
   "cell_type": "markdown",
   "id": "657d2c9b",
   "metadata": {},
   "source": [
    "## 📅 Selección de fechas (entrada manual)"
   ]
  },
  {
   "cell_type": "code",
   "execution_count": null,
   "id": "02c5d3c7",
   "metadata": {},
   "outputs": [],
   "source": [
    "while True:\n",
    "    try:\n",
    "        start = datetime.strptime(input(\"Introduce la fecha de inicio (dd/mm/yyyy): \"), \"%d/%m/%Y\")\n",
    "        end = datetime.strptime(input(\"Introduce la fecha de fin (dd/mm/yyyy): \"), \"%d/%m/%Y\")\n",
    "        if start > end:\n",
    "            print(\"⚠️ La fecha de inicio debe ser anterior a la fecha de fin.\")\n",
    "            continue\n",
    "        break\n",
    "    except ValueError:\n",
    "        print(\"⚠️ Formato no válido. Usa dd/mm/yyyy.\")"
   ]
  },
  {
   "cell_type": "markdown",
   "id": "917c56c3",
   "metadata": {},
   "source": [
    "## 📥 Función para obtener datos desde la API de ESIOS"
   ]
  },
  {
   "cell_type": "code",
   "execution_count": null,
   "id": "68b05c63",
   "metadata": {},
   "outputs": [],
   "source": [
    "def get_esios_data(indicator_id, start_date, end_date):\n",
    "    url = f'https://api.esios.ree.es/indicators/{indicator_id}'\n",
    "    params = {\n",
    "        'start_date': start_date.isoformat(),\n",
    "        'end_date': end_date.isoformat(),\n",
    "        'time_trunc': 'hour'\n",
    "    }\n",
    "    response = requests.get(url, headers=HEADERS, params=params)\n",
    "    if response.status_code == 200:\n",
    "        data = response.json()\n",
    "        values = data['indicator']['values']\n",
    "        df = pd.DataFrame(values)\n",
    "        df['datetime'] = pd.to_datetime(df['datetime'])\n",
    "        df = df[['datetime', 'value']].rename(columns={'value': f'indicator_{indicator_id}'})\n",
    "        return df\n",
    "    else:\n",
    "        print(f\"Error {response.status_code}: {response.text}\")\n",
    "        return pd.DataFrame(columns=['datetime', f'indicator_{indicator_id}'])"
   ]
  },
  {
   "cell_type": "markdown",
   "id": "71a0e1f3",
   "metadata": {},
   "source": [
    "## 📊 Descarga de datos de previsión y producción real"
   ]
  },
  {
   "cell_type": "code",
   "execution_count": null,
   "id": "0878017a",
   "metadata": {},
   "outputs": [],
   "source": [
    "df_forecast = get_esios_data(541, start, end)\n",
    "df_real = get_esios_data(551, start, end)\n",
    "df = pd.merge(df_forecast, df_real, on='datetime', how='outer').sort_values('datetime')"
   ]
  },
  {
   "cell_type": "markdown",
   "id": "75212e2b",
   "metadata": {},
   "source": [
    "## 🧹 Limpieza de datos"
   ]
  },
  {
   "cell_type": "code",
   "execution_count": null,
   "id": "587a1cf8",
   "metadata": {},
   "outputs": [],
   "source": [
    "def cleaning(df):\n",
    "    df = df.copy()\n",
    "    df.set_index('datetime', inplace=True)\n",
    "    df.interpolate('linear', inplace=True)\n",
    "    return df.reset_index()\n",
    "\n",
    "df = cleaning(df)\n",
    "\n",
    "for col in ['indicator_541', 'indicator_551']:\n",
    "    Q1, Q3 = df[col].quantile([0.25, 0.75])\n",
    "    IQR = Q3 - Q1\n",
    "    df[col] = df[col].where(df[col].between(0, Q3 + 1.5 * IQR))\n",
    "\n",
    "df = cleaning(df)\n",
    "df['datetime'] = df['datetime'].dt.tz_localize(None)\n",
    "df.loc[df['datetime'] > datetime.now(), 'indicator_551'] = 0\n",
    "df['indicator_551'] /= 12\n",
    "df['indicator_541'] /= 4"
   ]
  },
  {
   "cell_type": "markdown",
   "id": "15d09b10",
   "metadata": {},
   "source": [
    "## 💾 Exportación de datos limpios a Excel"
   ]
  },
  {
   "cell_type": "code",
   "execution_count": null,
   "id": "4a941acf",
   "metadata": {},
   "outputs": [],
   "source": [
    "df.to_excel(\"WIND_DATAv2.xlsx\", index=False)\n",
    "print(\"Datos exportados correctamente a 'WIND_DATAv2.xlsx'\")"
   ]
  },
  {
   "cell_type": "markdown",
   "id": "e238691b",
   "metadata": {},
   "source": [
    "## 📈 Análisis de correlación entre previsión y producción real"
   ]
  },
  {
   "cell_type": "code",
   "execution_count": null,
   "id": "c3220e5b",
   "metadata": {},
   "outputs": [],
   "source": [
    "df_corr = df.dropna(subset=['indicator_541', 'indicator_551'])\n",
    "correlation = df_corr['indicator_541'].corr(df_corr['indicator_551'])\n",
    "print(\"Coeficiente de correlación:\", correlation)\n",
    "\n",
    "plt.figure(figsize=(10, 6))\n",
    "sns.regplot(data=df_corr, x='indicator_541', y='indicator_551',\n",
    "            line_kws={'color': 'red'}, scatter_kws={'alpha': 0.5})\n",
    "plt.title(f'Correlación previsión vs real (r = {correlation:.2f})')\n",
    "plt.xlabel('Previsión eólica (MW)')\n",
    "plt.ylabel('Producción real (MW)')\n",
    "plt.grid(True)\n",
    "plt.tight_layout()\n",
    "plt.show()\n",
    "\n",
    "m, b = np.polyfit(df_corr['indicator_541'], df_corr['indicator_551'], 1)"
   ]
  },
  {
   "cell_type": "markdown",
   "id": "ae799178",
   "metadata": {},
   "source": [
    "## 📆 Agrupación diaria y cálculo de error"
   ]
  },
  {
   "cell_type": "code",
   "execution_count": null,
   "id": "8be6614b",
   "metadata": {},
   "outputs": [],
   "source": [
    "df['date'] = df['datetime'].dt.date\n",
    "df_daily = df.groupby('date', as_index=False)[['indicator_541', 'indicator_551']].sum()\n",
    "df_daily['error'] = df_daily['indicator_541'] - df_daily['indicator_551']"
   ]
  },
  {
   "cell_type": "markdown",
   "id": "69e89104",
   "metadata": {},
   "source": [
    "## 📊 Comparación diaria de previsión y producción real (barras)"
   ]
  },
  {
   "cell_type": "code",
   "execution_count": null,
   "id": "89cd32e9",
   "metadata": {},
   "outputs": [],
   "source": [
    "x = np.arange(len(df_daily['date']))\n",
    "width = 0.35\n",
    "\n",
    "plt.figure(figsize=(12, 6))\n",
    "plt.bar(x - width/2, df_daily['indicator_541'], width, label='Previsión diaria', color='skyblue')\n",
    "plt.bar(x + width/2, df_daily['indicator_551'], width, label='Producción real diaria', color='lightgreen')\n",
    "plt.xticks(x, df_daily['date'], rotation=45)\n",
    "plt.xlabel('Fecha')\n",
    "plt.ylabel('Energía diaria total (MW·h)')\n",
    "plt.title('Comparación diaria de energía: Previsión vs Producción real')\n",
    "plt.legend()\n",
    "plt.grid(True, axis='y')\n",
    "plt.tight_layout()\n",
    "plt.show()"
   ]
  },
  {
   "cell_type": "markdown",
   "id": "42ddddee",
   "metadata": {},
   "source": [
    "## 🔄 Comparativa con datos del Grupo 1 (Zona 7 - Castilla-La Mancha)"
   ]
  },
  {
   "cell_type": "code",
   "execution_count": null,
   "id": "56f832a6",
   "metadata": {},
   "outputs": [],
   "source": [
    "def get_generacion_zona7(start, end):\n",
    "    url = \"https://apidatos.ree.es/es/datos/generacion/estructura-generacion\"\n",
    "    headers = {\"Accept\": \"application/json\"}\n",
    "    params = {\n",
    "        \"start_date\": start.strftime(\"%Y-%m-%dT%H:%M\"),\n",
    "        \"end_date\": end.strftime(\"%Y-%m-%dT%H:%M\"),\n",
    "        \"time_trunc\": \"day\",\n",
    "        \"geo_limit\":  \"ccaa\",\n",
    "        \"geo_id\": 7\n",
    "    }\n",
    "    response = requests.get(url, headers=headers, params=params)\n",
    "    if response.status_code != 200:\n",
    "        print(f\"⛔ Error {response.status_code}\")\n",
    "        return pd.DataFrame()\n",
    "\n",
    "    data = response.json()\n",
    "    rows = []\n",
    "    for tech in data[\"included\"]:\n",
    "        if tech[\"attributes\"][\"title\"] == \"Eólica\":\n",
    "            for v in tech[\"attributes\"][\"values\"]:\n",
    "                rows.append({\n",
    "                    \"date\": v[\"datetime\"][:10],\n",
    "                    \"eolica_zona7\": v[\"value\"]\n",
    "                })\n",
    "    return pd.DataFrame(rows)\n",
    "\n",
    "df_zona7 = get_generacion_zona7(start, end)\n",
    "df_zona7['date'] = pd.to_datetime(df_zona7['date'])\n",
    "df_daily['date'] = pd.to_datetime(df_daily['date'])\n",
    "df_comparado = pd.merge(df_daily, df_zona7, on='date', how='inner')"
   ]
  },
  {
   "cell_type": "markdown",
   "id": "409219b1",
   "metadata": {},
   "source": [
    "## 📉 Comparativa visual con datos del Grupo 1"
   ]
  },
  {
   "cell_type": "code",
   "execution_count": null,
   "id": "bd521065",
   "metadata": {},
   "outputs": [],
   "source": [
    "df_melted = df_comparado.melt(id_vars=\"date\", \n",
    "                              value_vars=[\"indicator_541\", \"indicator_551\", \"eolica_zona7\"],\n",
    "                              var_name=\"Fuente\", \n",
    "                              value_name=\"Energía (MWh)\")\n",
    "\n",
    "nombre_dict = {\n",
    "    \"indicator_541\": \"Previsión (Grupo 2 - ESIOS)\",\n",
    "    \"indicator_551\": \"Producción real (Grupo 2 - ESIOS)\",\n",
    "    \"eolica_zona7\": \"Generación eólica real Zona 7 (Grupo 1)\"\n",
    "}\n",
    "df_melted[\"Fuente\"] = df_melted[\"Fuente\"].map(nombre_dict)\n",
    "\n",
    "sns.lineplot(data=df_melted, x=\"date\", y=\"Energía (MWh)\", hue=\"Fuente\", marker=\"o\")\n",
    "plt.title(\"Comparación diaria de generación eólica\")\n",
    "plt.xlabel(\"Fecha\")\n",
    "plt.ylabel(\"Energía (MWh)\")\n",
    "plt.xticks(rotation=45)\n",
    "plt.grid(True)\n",
    "plt.tight_layout()\n",
    "plt.show()"
   ]
  },
  {
   "cell_type": "markdown",
   "id": "d583d4c8",
   "metadata": {},
   "source": [
    "## 📊 Dashboard interactivo en Jupyter"
   ]
  },
  {
   "cell_type": "code",
   "execution_count": null,
   "id": "9be56a55",
   "metadata": {},
   "outputs": [],
   "source": [
    "fig_dashboard = make_subplots(\n",
    "    rows=2, cols=2,\n",
    "    subplot_titles=(\n",
    "        \"Forecast vs Real Power over Time\",\n",
    "        \"Forecast vs Real Correlation (scatter)\",\n",
    "        \"Comparación diaria generación eólica (Grupo 2 vs Grupo 1)\",\n",
    "        \"Error diario de previsión\"\n",
    "    )\n",
    ")\n",
    "\n",
    "fig_dashboard.add_trace(\n",
    "    go.Scatter(x=df_corr['datetime'], y=df_corr['indicator_541'], mode='lines', name='Forecast Power', line=dict(color='blue')),\n",
    "    row=1, col=1\n",
    ")\n",
    "fig_dashboard.add_trace(\n",
    "    go.Scatter(x=df_corr['datetime'], y=df_corr['indicator_551'], mode='lines', name='Real Power', line=dict(color='green')),\n",
    "    row=1, col=1\n",
    ")\n",
    "\n",
    "fig_dashboard.add_trace(\n",
    "    go.Scatter(x=df_corr['indicator_541'], y=df_corr['indicator_551'], mode='markers', name='Data Points', marker=dict(color='dodgerblue')),\n",
    "    row=1, col=2\n",
    ")\n",
    "m, b = np.polyfit(df_corr['indicator_541'], df_corr['indicator_551'], 1)\n",
    "fig_dashboard.add_trace(\n",
    "    go.Scatter(x=df_corr['indicator_541'], y=m * df_corr['indicator_541'] + b, mode='lines', name='Trend Line', line=dict(color='firebrick', dash='dash', width=2)),\n",
    "    row=1, col=2\n",
    ")\n",
    "\n",
    "fig_dashboard.add_trace(\n",
    "    go.Scatter(x=df_comparado['date'], y=df_comparado['indicator_541'], mode='lines+markers', name='Previsión diaria (Grupo 2)', line=dict(color='dodgerblue')),\n",
    "    row=2, col=1\n",
    ")\n",
    "fig_dashboard.add_trace(\n",
    "    go.Scatter(x=df_comparado['date'], y=df_comparado['indicator_551'], mode='lines+markers', name='Producción real diaria (Grupo 2)', line=dict(color='mediumseagreen')),\n",
    "    row=2, col=1\n",
    ")\n",
    "fig_dashboard.add_trace(\n",
    "    go.Scatter(x=df_comparado['date'], y=df_comparado['eolica_zona7'], mode='lines+markers', name='Generación eólica Zona 7 (Grupo 1)', line=dict(color='orange')),\n",
    "    row=2, col=1\n",
    ")\n",
    "\n",
    "fig_dashboard.add_trace(\n",
    "    go.Bar(x=df_daily['date'], y=df_daily['error'], marker_color='indianred', name='Error diario'),\n",
    "    row=2, col=2\n",
    ")\n",
    "\n",
    "fig_dashboard.update_layout(\n",
    "    height=900, width=1200,\n",
    "    title_text=\"Dashboard Comparativo Energía Eólica\",\n",
    "    showlegend=True,\n",
    "    template=\"plotly_white\"\n",
    ")\n",
    "\n",
    "fig_dashboard.show()"
   ]
  }
 ],
 "metadata": {
  "language_info": {
   "name": "python"
  }
 },
 "nbformat": 4,
 "nbformat_minor": 5
}
